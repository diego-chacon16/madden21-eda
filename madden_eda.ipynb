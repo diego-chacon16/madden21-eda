{
 "cells": [
  {
   "cell_type": "markdown",
   "id": "20121283-7898-46ab-95ac-ce64747d593d",
   "metadata": {},
   "source": [
    "## Madden 21 Exploratory Data Analysis\n",
    "\n",
    "#### Questions to answer:\n",
    "\n",
    "1. For the Top 100 players\n",
    "  + Top teams - Count of players per team\n",
    "  + Positions - Which positions compose of the Top 100 Players? The most, middle of the pack, least\n",
    "  + Are there any teams without a player in the Top 100 Players?\n",
    "\n",
    "2. Average Age - Top 100 Players\n",
    "  + Count of players above the average age\n",
    "  + Average age by position"
   ]
  },
  {
   "cell_type": "code",
   "execution_count": 1,
   "id": "0077850a-d12b-4a69-8ac6-6a3b3846492c",
   "metadata": {},
   "outputs": [
    {
     "data": {
      "text/html": [
       "<div>\n",
       "<style scoped>\n",
       "    .dataframe tbody tr th:only-of-type {\n",
       "        vertical-align: middle;\n",
       "    }\n",
       "\n",
       "    .dataframe tbody tr th {\n",
       "        vertical-align: top;\n",
       "    }\n",
       "\n",
       "    .dataframe thead th {\n",
       "        text-align: right;\n",
       "    }\n",
       "</style>\n",
       "<table border=\"1\" class=\"dataframe\">\n",
       "  <thead>\n",
       "    <tr style=\"text-align: right;\">\n",
       "      <th></th>\n",
       "      <th>Team</th>\n",
       "      <th>Full Name</th>\n",
       "      <th>Overall Rating</th>\n",
       "      <th>Position</th>\n",
       "      <th>Age</th>\n",
       "      <th>Speed</th>\n",
       "      <th>Acceleration</th>\n",
       "      <th>Awareness</th>\n",
       "      <th>Agility</th>\n",
       "      <th>Strength</th>\n",
       "      <th>...</th>\n",
       "      <th>Jersey Number</th>\n",
       "      <th>Total Salary</th>\n",
       "      <th>Signing Bonus</th>\n",
       "      <th>Archetype</th>\n",
       "      <th>Running Style</th>\n",
       "      <th>Years Pro</th>\n",
       "      <th>Height</th>\n",
       "      <th>Weight</th>\n",
       "      <th>Birthdate</th>\n",
       "      <th>College</th>\n",
       "    </tr>\n",
       "  </thead>\n",
       "  <tbody>\n",
       "    <tr>\n",
       "      <th>0</th>\n",
       "      <td>Rams</td>\n",
       "      <td>Aaron Donald</td>\n",
       "      <td>99</td>\n",
       "      <td>RE</td>\n",
       "      <td>29</td>\n",
       "      <td>82</td>\n",
       "      <td>90</td>\n",
       "      <td>99</td>\n",
       "      <td>86</td>\n",
       "      <td>99</td>\n",
       "      <td>...</td>\n",
       "      <td>99</td>\n",
       "      <td>$101,892,000.00</td>\n",
       "      <td>$40,000,000.00</td>\n",
       "      <td>DE_PowerRusher</td>\n",
       "      <td>Default Stride Loose</td>\n",
       "      <td>6</td>\n",
       "      <td>73</td>\n",
       "      <td>280</td>\n",
       "      <td>5/23/1991</td>\n",
       "      <td>Pittsburgh</td>\n",
       "    </tr>\n",
       "    <tr>\n",
       "      <th>1</th>\n",
       "      <td>Patriots</td>\n",
       "      <td>Stephon Gilmore</td>\n",
       "      <td>99</td>\n",
       "      <td>CB</td>\n",
       "      <td>29</td>\n",
       "      <td>92</td>\n",
       "      <td>94</td>\n",
       "      <td>99</td>\n",
       "      <td>94</td>\n",
       "      <td>70</td>\n",
       "      <td>...</td>\n",
       "      <td>24</td>\n",
       "      <td>$33,550,000.00</td>\n",
       "      <td>$31,450,000.00</td>\n",
       "      <td>CB_MantoMan</td>\n",
       "      <td>Default</td>\n",
       "      <td>8</td>\n",
       "      <td>73</td>\n",
       "      <td>202</td>\n",
       "      <td>9/19/1990</td>\n",
       "      <td>South Carolina</td>\n",
       "    </tr>\n",
       "    <tr>\n",
       "      <th>2</th>\n",
       "      <td>Panthers</td>\n",
       "      <td>Christian McCaffrey</td>\n",
       "      <td>99</td>\n",
       "      <td>HB</td>\n",
       "      <td>24</td>\n",
       "      <td>92</td>\n",
       "      <td>93</td>\n",
       "      <td>97</td>\n",
       "      <td>97</td>\n",
       "      <td>72</td>\n",
       "      <td>...</td>\n",
       "      <td>22</td>\n",
       "      <td>$45,840,000.00</td>\n",
       "      <td>$32,190,000.00</td>\n",
       "      <td>HB_ReceivingBack</td>\n",
       "      <td>Short Stride Default</td>\n",
       "      <td>3</td>\n",
       "      <td>71</td>\n",
       "      <td>205</td>\n",
       "      <td>6/7/1996</td>\n",
       "      <td>Stanford</td>\n",
       "    </tr>\n",
       "    <tr>\n",
       "      <th>3</th>\n",
       "      <td>Chiefs</td>\n",
       "      <td>Patrick Mahomes</td>\n",
       "      <td>99</td>\n",
       "      <td>QB</td>\n",
       "      <td>24</td>\n",
       "      <td>81</td>\n",
       "      <td>87</td>\n",
       "      <td>97</td>\n",
       "      <td>88</td>\n",
       "      <td>69</td>\n",
       "      <td>...</td>\n",
       "      <td>15</td>\n",
       "      <td>$6,840,000.00</td>\n",
       "      <td>$34,420,000.00</td>\n",
       "      <td>QB_Improviser</td>\n",
       "      <td>Default</td>\n",
       "      <td>3</td>\n",
       "      <td>75</td>\n",
       "      <td>230</td>\n",
       "      <td>9/17/1995</td>\n",
       "      <td>Texas Tech</td>\n",
       "    </tr>\n",
       "    <tr>\n",
       "      <th>4</th>\n",
       "      <td>Saints</td>\n",
       "      <td>Michael Thomas</td>\n",
       "      <td>99</td>\n",
       "      <td>WR</td>\n",
       "      <td>27</td>\n",
       "      <td>89</td>\n",
       "      <td>92</td>\n",
       "      <td>99</td>\n",
       "      <td>92</td>\n",
       "      <td>77</td>\n",
       "      <td>...</td>\n",
       "      <td>13</td>\n",
       "      <td>$62,750,000.00</td>\n",
       "      <td>$35,130,000.00</td>\n",
       "      <td>WR_RouteRunner</td>\n",
       "      <td>Default</td>\n",
       "      <td>4</td>\n",
       "      <td>75</td>\n",
       "      <td>212</td>\n",
       "      <td>3/3/1993</td>\n",
       "      <td>Ohio State</td>\n",
       "    </tr>\n",
       "  </tbody>\n",
       "</table>\n",
       "<p>5 rows × 69 columns</p>\n",
       "</div>"
      ],
      "text/plain": [
       "       Team            Full Name  Overall Rating Position  Age  Speed  \\\n",
       "0      Rams         Aaron Donald              99       RE   29     82   \n",
       "1  Patriots      Stephon Gilmore              99       CB   29     92   \n",
       "2  Panthers  Christian McCaffrey              99       HB   24     92   \n",
       "3    Chiefs      Patrick Mahomes              99       QB   24     81   \n",
       "4    Saints       Michael Thomas              99       WR   27     89   \n",
       "\n",
       "   Acceleration  Awareness  Agility  Strength  ...  Jersey Number  \\\n",
       "0            90         99       86        99  ...             99   \n",
       "1            94         99       94        70  ...             24   \n",
       "2            93         97       97        72  ...             22   \n",
       "3            87         97       88        69  ...             15   \n",
       "4            92         99       92        77  ...             13   \n",
       "\n",
       "       Total Salary     Signing Bonus          Archetype  \\\n",
       "0   $101,892,000.00    $40,000,000.00     DE_PowerRusher   \n",
       "1    $33,550,000.00    $31,450,000.00        CB_MantoMan   \n",
       "2    $45,840,000.00    $32,190,000.00   HB_ReceivingBack   \n",
       "3     $6,840,000.00    $34,420,000.00      QB_Improviser   \n",
       "4    $62,750,000.00    $35,130,000.00     WR_RouteRunner   \n",
       "\n",
       "          Running Style  Years Pro  Height  Weight  Birthdate         College  \n",
       "0  Default Stride Loose          6      73     280  5/23/1991      Pittsburgh  \n",
       "1               Default          8      73     202  9/19/1990  South Carolina  \n",
       "2  Short Stride Default          3      71     205   6/7/1996        Stanford  \n",
       "3               Default          3      75     230  9/17/1995      Texas Tech  \n",
       "4               Default          4      75     212   3/3/1993      Ohio State  \n",
       "\n",
       "[5 rows x 69 columns]"
      ]
     },
     "execution_count": 1,
     "metadata": {},
     "output_type": "execute_result"
    }
   ],
   "source": [
    "# importing libraries to peform exploration\n",
    "\n",
    "import pandas as pd\n",
    "import numpy as np\n",
    "import seaborn as sns\n",
    "import matplotlib.pyplot as plt\n",
    "\n",
    "# reading in madden 21 ratings csv and storing it in df\n",
    "df = pd.read_csv('data/madden21_ratings.csv')\n",
    "\n",
    "# looking at the first five rows of the dataset\n",
    "df.head(5)"
   ]
  },
  {
   "cell_type": "code",
   "execution_count": 2,
   "id": "ae1bba65-4838-4a79-b85d-9a650a63b890",
   "metadata": {},
   "outputs": [
    {
     "name": "stdout",
     "output_type": "stream",
     "text": [
      "<class 'pandas.core.frame.DataFrame'>\n",
      "RangeIndex: 2293 entries, 0 to 2292\n",
      "Data columns (total 69 columns):\n",
      " #   Column                Non-Null Count  Dtype \n",
      "---  ------                --------------  ----- \n",
      " 0   Team                  2293 non-null   object\n",
      " 1   Full Name             2293 non-null   object\n",
      " 2   Overall Rating        2293 non-null   int64 \n",
      " 3   Position              2293 non-null   object\n",
      " 4   Age                   2293 non-null   int64 \n",
      " 5   Speed                 2293 non-null   int64 \n",
      " 6   Acceleration          2293 non-null   int64 \n",
      " 7   Awareness             2293 non-null   int64 \n",
      " 8   Agility               2293 non-null   int64 \n",
      " 9   Strength              2293 non-null   int64 \n",
      " 10  Throw Power           2293 non-null   int64 \n",
      " 11  Throw On The Run      2293 non-null   int64 \n",
      " 12  Throw Under Pressure  2293 non-null   int64 \n",
      " 13  Throw Accuracy Short  2293 non-null   int64 \n",
      " 14  Throw Accuracy Mid    2293 non-null   int64 \n",
      " 15  Throw Accuracy Deep   2293 non-null   int64 \n",
      " 16  Release               2293 non-null   int64 \n",
      " 17  Ball Carrier Vision   2293 non-null   int64 \n",
      " 18  Stamina               2293 non-null   int64 \n",
      " 19  Carrying              2293 non-null   int64 \n",
      " 20  Play Action           2293 non-null   int64 \n",
      " 21  Pursuit               2293 non-null   int64 \n",
      " 22  Play Recognition      2293 non-null   int64 \n",
      " 23  Short Route Running   2293 non-null   int64 \n",
      " 24  Medium Route Running  2293 non-null   int64 \n",
      " 25  Deep Route Running    2293 non-null   int64 \n",
      " 26  Catch In Traffic      2293 non-null   int64 \n",
      " 27  Catching              2293 non-null   int64 \n",
      " 28  Spin Move             2293 non-null   int64 \n",
      " 29  Finesse Moves         2293 non-null   int64 \n",
      " 30  Spectacular Catch     2293 non-null   int64 \n",
      " 31  Jumping               2293 non-null   int64 \n",
      " 32  Tackle                2293 non-null   int64 \n",
      " 33  Zone Coverage         2293 non-null   int64 \n",
      " 34  Man Coverage          2293 non-null   int64 \n",
      " 35  Trucking              2293 non-null   int64 \n",
      " 36  Juke Move             2293 non-null   int64 \n",
      " 37  Break Sack            2293 non-null   int64 \n",
      " 38  Toughness             2293 non-null   int64 \n",
      " 39  Stiff Arm             2293 non-null   int64 \n",
      " 40  Power Moves           2293 non-null   int64 \n",
      " 41  Lead Blocking         2293 non-null   int64 \n",
      " 42  Run Block Power       2293 non-null   int64 \n",
      " 43  Run Blocking          2293 non-null   int64 \n",
      " 44  Hit Power             2293 non-null   int64 \n",
      " 45  Pass Block Finesse    2293 non-null   int64 \n",
      " 46  Pass Block Power      2293 non-null   int64 \n",
      " 47  Pass Blocking         2293 non-null   int64 \n",
      " 48  Impact Blocking       2293 non-null   int64 \n",
      " 49  Kick Return           2293 non-null   int64 \n",
      " 50  Kick Accuracy         2293 non-null   int64 \n",
      " 51  Break Tackle          2293 non-null   int64 \n",
      " 52  Kick Power            2293 non-null   int64 \n",
      " 53  Change Of Direction   2293 non-null   int64 \n",
      " 54  Press                 2293 non-null   int64 \n",
      " 55  Block Shedding        2293 non-null   int64 \n",
      " 56  Run Block Finesse     2293 non-null   int64 \n",
      " 57  Injury                2293 non-null   int64 \n",
      " 58  Player Handedness     2293 non-null   object\n",
      " 59  Jersey Number         2293 non-null   int64 \n",
      " 60   Total Salary         2293 non-null   object\n",
      " 61   Signing Bonus        2293 non-null   object\n",
      " 62  Archetype             2293 non-null   object\n",
      " 63  Running Style         2293 non-null   object\n",
      " 64  Years Pro             2293 non-null   int64 \n",
      " 65  Height                2293 non-null   int64 \n",
      " 66  Weight                2293 non-null   int64 \n",
      " 67  Birthdate             2293 non-null   object\n",
      " 68  College               2293 non-null   object\n",
      "dtypes: int64(59), object(10)\n",
      "memory usage: 1.2+ MB\n"
     ]
    }
   ],
   "source": [
    "# understanding the columns and their data types\n",
    "\n",
    "df.info()"
   ]
  },
  {
   "cell_type": "code",
   "execution_count": 3,
   "id": "bfcf41ee-9c97-4be6-8370-c51a9470687c",
   "metadata": {},
   "outputs": [
    {
     "data": {
      "text/plain": [
       "Team              0\n",
       "Full Name         0\n",
       "Overall Rating    0\n",
       "Position          0\n",
       "Age               0\n",
       "                 ..\n",
       "Years Pro         0\n",
       "Height            0\n",
       "Weight            0\n",
       "Birthdate         0\n",
       "College           0\n",
       "Length: 69, dtype: int64"
      ]
     },
     "execution_count": 3,
     "metadata": {},
     "output_type": "execute_result"
    }
   ],
   "source": [
    "# looking for null values\n",
    "\n",
    "df.isnull().sum()"
   ]
  },
  {
   "cell_type": "markdown",
   "id": "0e0f1d1c-3e78-4db2-8e30-0ed7e892a926",
   "metadata": {},
   "source": [
    "### Exploration # 1\n",
    "\n",
    "1. For the Top 100 players\n",
    "  + Top teams - Count of players per team\n",
    "  + Positions - Which positions compose of the Top 100 Players? The most, middle of the pack, least\n",
    "  + Are there any teams without a player in the Top 100 Players?\n",
    "  \n",
    "2. Steps to get there\n",
    "  + Using the rank method, rank players based on their overall ratings. Each player will have a unique ranking\n",
    "  + Filter by the Top 100 players and store them in a variable called top_100\n",
    "  + Get a unique number of teams in the top 100 to understand what % of teams have at least one player "
   ]
  },
  {
   "cell_type": "code",
   "execution_count": 4,
   "id": "2cf67876-333d-4f1d-b85b-b944d62c9558",
   "metadata": {},
   "outputs": [],
   "source": [
    "# ranking the players by Overall Rating\n",
    "\n",
    "df['rank'] = df['Overall Rating'].rank(method = 'first', ascending = False).astype(int)"
   ]
  },
  {
   "cell_type": "code",
   "execution_count": 5,
   "id": "d33906ad-0f34-409c-93ed-c44fe704afce",
   "metadata": {},
   "outputs": [],
   "source": [
    "# filtering for the top 100 rated players\n",
    "\n",
    "top_100 = df[df['rank'] <= 100]"
   ]
  },
  {
   "cell_type": "code",
   "execution_count": 6,
   "id": "e943de26-174f-4ab9-8346-ef083b9cf434",
   "metadata": {},
   "outputs": [],
   "source": [
    "# filtering by team and count of players per team in the Top 100 players\n",
    "# renaming column age to player count\n",
    "# sorting the values by player count descending\n",
    "\n",
    "top_teams = top_100.groupby('Team').count()['Age'].reset_index().rename({'Age': 'Player Count'}, axis = 1).sort_values(by = 'Player Count', ascending = False)"
   ]
  },
  {
   "cell_type": "code",
   "execution_count": 7,
   "id": "ee5a5e9f-6c9a-42c5-9f3f-baaf852eab99",
   "metadata": {},
   "outputs": [
    {
     "name": "stdout",
     "output_type": "stream",
     "text": [
      "Out of the 32 NFL teams, 90.6% have at least one player in the Top 100 players\n"
     ]
    }
   ],
   "source": [
    "# calculating how many unique teams have at least one player in the Top 100 players\n",
    "\n",
    "total_teams = df['Team'].nunique() # number of total unique teams \n",
    "teams_100 = top_100['Team'].nunique() # number of unique teams in the top 100 \n",
    "\n",
    "percentage_teams_100 = round(teams_100/total_teams*100,1) # divind the number of teams by the total number of teams to understand what % of teams make up for the top 100 players\n",
    "\n",
    "print(\"Out of the 32 NFL teams, {}% have at least one player in the Top 100 players\".format(percentage_teams_100))"
   ]
  },
  {
   "cell_type": "markdown",
   "id": "a762fb9a-e74f-43da-bdfa-f327eaabab28",
   "metadata": {},
   "source": [
    "### Creating a function to label any player above the average rating in the Top 100 players \n",
    "\n",
    "+ Above Average - Elite\n",
    "+ Equal to or below Top 100 Player Average - Great"
   ]
  },
  {
   "cell_type": "code",
   "execution_count": 8,
   "id": "e00cef7c-0f3d-4e69-aed9-5af33edd7ca9",
   "metadata": {},
   "outputs": [
    {
     "name": "stderr",
     "output_type": "stream",
     "text": [
      "<ipython-input-8-eb3832826867>:11: SettingWithCopyWarning: \n",
      "A value is trying to be set on a copy of a slice from a DataFrame.\n",
      "Try using .loc[row_indexer,col_indexer] = value instead\n",
      "\n",
      "See the caveats in the documentation: https://pandas.pydata.org/pandas-docs/stable/user_guide/indexing.html#returning-a-view-versus-a-copy\n",
      "  top_100['player_status'] = top_100['Overall Rating'].apply(label_players) # applying the function to the Top 100\n"
     ]
    }
   ],
   "source": [
    "top_avg = top_100['Overall Rating'].mean()\n",
    "\n",
    "def label_players(rating):\n",
    "    # if the rating of the player is lower than the average of the top 100 players \n",
    "    if rating < top_avg:\n",
    "        return 'Great'\n",
    "    else:\n",
    "        return 'Elite'   # if it is higher label them\n",
    "    return rating\n",
    "\n",
    "\n",
    "top_100['player_status'] = top_100['Overall Rating'].apply(label_players) # applying the function to the Top 100"
   ]
  },
  {
   "cell_type": "code",
   "execution_count": 9,
   "id": "522fea61-637a-4dbd-a6ca-928961bb891e",
   "metadata": {},
   "outputs": [
    {
     "name": "stdout",
     "output_type": "stream",
     "text": [
      "After analyzing the Top 100 players, the average rating is 92.02 overall. From the 100 players, 38 are above average and considered Elite, whereas 62 players are below the average rating but considered Great players.\n"
     ]
    }
   ],
   "source": [
    "# printing out statement to answer questions\n",
    "\n",
    "elite_players = top_100[top_100['player_status'] == 'Elite']['player_status'].count()\n",
    "great_players = top_100[top_100['player_status'] == 'Great']['player_status'].count()\n",
    "\n",
    "print(\"After analyzing the Top 100 players, the average rating is {} overall. From the 100 players, {} are above average and considered Elite, whereas {} players are below the average rating but considered Great players.\".format(top_avg, elite_players, great_players))"
   ]
  },
  {
   "cell_type": "code",
   "execution_count": 10,
   "id": "62689c6e-9c28-4271-a5ac-e2ada1059e79",
   "metadata": {},
   "outputs": [],
   "source": [
    "avg_age = round(top_100['Age'].mean(), 0)"
   ]
  },
  {
   "cell_type": "code",
   "execution_count": 11,
   "id": "fa79274d-32da-459a-ba9d-47ee51311a30",
   "metadata": {},
   "outputs": [
    {
     "data": {
      "text/plain": [
       "28.0"
      ]
     },
     "execution_count": 11,
     "metadata": {},
     "output_type": "execute_result"
    }
   ],
   "source": [
    "avg_age"
   ]
  },
  {
   "cell_type": "code",
   "execution_count": 12,
   "id": "866d1b51-6592-48b0-8a2d-6291e441b017",
   "metadata": {},
   "outputs": [],
   "source": [
    "def players_age(age):\n",
    "    if age < avg_age:\n",
    "        return 'Over'\n",
    "    else:\n",
    "        return 'Under'\n",
    "    return age"
   ]
  },
  {
   "cell_type": "code",
   "execution_count": 13,
   "id": "f42f71d6-09e9-41ca-a1ee-ad5e98084ea1",
   "metadata": {},
   "outputs": [
    {
     "name": "stderr",
     "output_type": "stream",
     "text": [
      "<ipython-input-13-398c12050cde>:1: SettingWithCopyWarning: \n",
      "A value is trying to be set on a copy of a slice from a DataFrame.\n",
      "Try using .loc[row_indexer,col_indexer] = value instead\n",
      "\n",
      "See the caveats in the documentation: https://pandas.pydata.org/pandas-docs/stable/user_guide/indexing.html#returning-a-view-versus-a-copy\n",
      "  top_100['Over/Under Age'] = top_100['Age'].apply(players_age)\n"
     ]
    }
   ],
   "source": [
    "top_100['Over/Under Age'] = top_100['Age'].apply(players_age)"
   ]
  },
  {
   "cell_type": "code",
   "execution_count": 14,
   "id": "769ba5dd-3f18-4fea-9f11-22b70e470932",
   "metadata": {},
   "outputs": [
    {
     "name": "stdout",
     "output_type": "stream",
     "text": [
      "Out of the Top 100 NFL players, 48 amount were over the average age of 28.0. Meanwhile, 52 players of the 100 were under the age.\n"
     ]
    }
   ],
   "source": [
    "over = top_100[top_100['Over/Under Age'] == 'Over']['Over/Under Age'].count()\n",
    "under = top_100[top_100['Over/Under Age'] == 'Under']['Over/Under Age'].count()\n",
    "\n",
    "print(\"Out of the Top 100 NFL players, {} amount were over the average age of {}. Meanwhile, {} players of the 100 were under the age.\".format(over, avg_age, under))"
   ]
  },
  {
   "cell_type": "code",
   "execution_count": 15,
   "id": "79939ff3-b0e3-4693-9306-638822e65178",
   "metadata": {},
   "outputs": [],
   "source": [
    "positions = top_100.groupby('Position').agg({\"Overall Rating\" : \"count\", \"Age\" : \"mean\"}).reset_index().rename({\"Overall Rating\" : \"Player Count\", \"Age\" : \"Avg Age\"}, axis = 1).sort_values(by = 'Player Count', ascending = False)"
   ]
  },
  {
   "cell_type": "code",
   "execution_count": 16,
   "id": "fb4b3ae6-e315-46b9-a0d8-48cf178db30b",
   "metadata": {},
   "outputs": [],
   "source": [
    "positions['Avg Age'] = positions['Avg Age'].astype(int) "
   ]
  },
  {
   "cell_type": "code",
   "execution_count": 18,
   "id": "869c50a6-0f1e-42e5-b86b-a6fab0511d0e",
   "metadata": {},
   "outputs": [
    {
     "data": {
      "text/plain": [
       "<AxesSubplot:xlabel='Position', ylabel='Player Count'>"
      ]
     },
     "execution_count": 18,
     "metadata": {},
     "output_type": "execute_result"
    },
    {
     "data": {
      "image/png": "[encoded data removed]",
      "text/plain": [
       "<Figure size 432x288 with 1 Axes>"
      ]
     },
     "metadata": {
      "needs_background": "light"
     },
     "output_type": "display_data"
    }
   ],
   "source": [
    "x = positions['Position'] \n",
    "y = positions['Player Count']\n",
    "\n",
    "sns.barplot(x = x, y = y, palette = sns.color_palette('pastel'))"
   ]
  },
  {
   "cell_type": "code",
   "execution_count": null,
   "id": "d5cefb88-19c4-427f-b91e-ac95dbbe27dd",
   "metadata": {},
   "outputs": [],
   "source": []
  }
 ],
 "metadata": {
  "kernelspec": {
   "display_name": "Python 3",
   "language": "python",
   "name": "python3"
  },
  "language_info": {
   "codemirror_mode": {
    "name": "ipython",
    "version": 3
   },
   "file_extension": ".py",
   "mimetype": "text/x-python",
   "name": "python",
   "nbconvert_exporter": "python",
   "pygments_lexer": "ipython3",
   "version": "3.8.8"
  }
 },
 "nbformat": 4,
 "nbformat_minor": 5
}
